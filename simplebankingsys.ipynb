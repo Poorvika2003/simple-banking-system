{
  "nbformat": 4,
  "nbformat_minor": 0,
  "metadata": {
    "colab": {
      "provenance": []
    },
    "kernelspec": {
      "name": "python3",
      "display_name": "Python 3"
    },
    "language_info": {
      "name": "python"
    }
  },
  "cells": [
    {
      "cell_type": "code",
      "execution_count": null,
      "metadata": {
        "id": "1SQChWwunaj1"
      },
      "outputs": [],
      "source": []
    },
    {
      "cell_type": "markdown",
      "source": [
        "simple banking system"
      ],
      "metadata": {
        "id": "W-GfMakWnt-R"
      }
    },
    {
      "cell_type": "code",
      "source": [
        "try:\n",
        "  acc_no = int(input(\"Please enter the account number: \"))\n",
        "  acc_bal = float(input(\"Please enter account balance: \"))\n",
        "  print(f\"Your account no is {acc_no} and accout balance is {acc_bal}\")\n",
        "  with_amt = float(input(\"Please enter amount to withdraw: \"))\n",
        "  if with_amt <= 0:\n",
        "    print(\"Enter the corect amount: \")\n",
        "  elif acc_bal < with_amt:\n",
        "      print(\"Insufficient balance..\")\n",
        "  else:\n",
        "      print(\"collect your money..!\")\n",
        "      new_bal=acc_bal-with_amt\n",
        "      print(f\"your account balance is {new_bal}\")\n",
        "except ValueError:\n",
        "  print(\"Invalid input, Please enter a valid number\")\n"
      ],
      "metadata": {
        "id": "tcmkGNv-poJM",
        "colab": {
          "base_uri": "https://localhost:8080/"
        },
        "outputId": "66673d26-60eb-497e-b623-a4d7a49f31f7"
      },
      "execution_count": 4,
      "outputs": [
        {
          "output_type": "stream",
          "name": "stdout",
          "text": [
            "Please enter the account number: 12345\n",
            "Please enter account balance: 10000\n",
            "Your account no is 12345 and accout balance is 10000.0\n",
            "Please enter amount to withdraw: 6540\n",
            "collect your money..!\n",
            "your account balance is 3460.0\n"
          ]
        }
      ]
    },
    {
      "cell_type": "code",
      "source": [],
      "metadata": {
        "id": "aS5xVhPYrQlR"
      },
      "execution_count": null,
      "outputs": []
    }
  ]
}